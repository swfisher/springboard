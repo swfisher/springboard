{
 "cells": [
  {
   "cell_type": "code",
   "execution_count": 23,
   "metadata": {
    "collapsed": true
   },
   "outputs": [],
   "source": [
    "import numpy as np\n",
    "import pandas as pd\n",
    "import matplotlib.pyplot as plt\n",
    "import seaborn as sns"
   ]
  },
  {
   "cell_type": "markdown",
   "metadata": {},
   "source": [
    "#### Problem setup\n",
    "---------------\n",
    "\n",
    "Our client, edugames.org, is a fictional but plausible company that is interested in creating online mathematical puzzle-solving games for seniors. They have traditionally created sudoku puzzles and other physical media, but are interested in creating a new offering for seniors in the online space. Their hope is that this new product will offer an enjoyable avenue for intellectual engagement and growth during one's professional retirement. \n",
    "\n",
    "The current thinking is that the game could be a mobile app as well as a web application, with a mobile first design and social media integration. They are curious if a mobile-first online game can find traction with a senior demographic. They are also curious if this may vary amongst segments of the senior population. In order to study this, they want to gain a general sense of the level of eagerness//skepticism that senior citizens hold towards online media.\n",
    "\n",
    "Can they expect irrational exuberance or should they anticipate a cautiously optimistic audience? We can expect growth mindset to correlate with the desire to engage with an educational product. Can we find a demographic subset that demonstrates growth mindset as well as a high degree of willingness to engage with technology?"
   ]
  },
  {
   "cell_type": "markdown",
   "metadata": {},
   "source": [
    "#### The Plan\n",
    "---------------\n",
    "\n",
    "We will begin by conveying the implications to the problem already explored in Pew's 2017 report on technology usage amongst seniors.\n",
    "\n",
    "We will then conduct EDA by plotting the distributions of survey responses for senior respondents and non-senior respondents, lookomg for strong trends to gain directional insight.\n",
    "\n",
    "We will then use the results of the cluster analysis from Pew’s initial study of the entire population to guide an unsupervised analysis of the senior population - focusing on finding distinct behavioral sub-groups. Do these vary in character or in distribution from pew's study?\n",
    "\n",
    "This will entail an Unsupervised Analysis:\n",
    "* Finding the intrinsic dimensionality of the survey responses with PCA\n",
    "* Looking for sub-groups with Non-Negative Matrix Factorization of the survey response matrix.\n",
    "* Looking for sub-groups with cluster analysis, beginning with K-Means and Agglomerative Clustering and projecting the results of this into 2d visualizations with t-SNE or PCA. Apply various clustering methods, then move to most promising results.\n",
    "    * I will use known methods to choose the best k or neighborhood size for each clustering model.\n",
    "    * I will look for consensus across a few clustering methods to validate the results. \n",
    " \n",
    "* I will then plot responses per cluster and begin looking for qualitative explanations for the clustering, focusing on those explanations most relevant to receptivity to an online game.\n",
    "\n",
    "* I will frame the findings in terms of their relevance to the game, using verbal, numerical, and graphical arguments from evidence to explore the implications for marketing to each of these sub-groups of seniors. \n",
    "\n",
    "* I will summarize the findings in a concrete set of Go/No Go recommendations for marketing the product to various groups.\n"
   ]
  },
  {
   "cell_type": "markdown",
   "metadata": {},
   "source": [
    "#### General Senior Technology Adoption Insights\n",
    "---------------\n",
    "\n",
    "This section distills insights to this problem from [Pew's Report on Senior Tech Adoption](http://www.pewinternet.org/2017/05/17/tech-adoption-climbs-among-older-adults/). See the report for greater detail on the insights below.\n",
    "\n",
    "\n",
    "According to Pew's Report,\n",
    "\n",
    "##### Seniors make up a substantial and growing portion of the population.\n",
    "* Seniors (65+) make up 15% of the population- about 46 million people.\n",
    "* The share of seniors is projected to increase to 22% by 2025.\n",
    "\n",
    "##### Tech adoption for seniors is growing in step with the general population, especially for younger, wealthier, and college educated seniors.\n",
    "* Growth in internet, broadband, smartphone, tablet, and social media adoption amongst seniors closely mirrors the high rate of growth in the general population.\n",
    "* The total rate of adoption of these technologies varies from about 1/2 to 2/3 that of the general population.\n",
    "* Younger, wealthier, and college educated seniors show higher rates of tech adoption in terms of internet, broadband, smartphone, tablet, and social media adoption. \n",
    "* 40% of seniors own smart phones\n",
    "* 25% of seniors play online games.\n",
    "\n",
    "##### Seniors who adopt internet and device usage have high levels of engagement.\n",
    "* 75% of internet using seniors go online daily.\n",
    "* 76% of smart-phone owning seniors use the internet multiple times per day.\n",
    "\n",
    "\n",
    "The report on Senior Tech Adoption uses data from the survey on information engagedness and warniness as well as two additional surveys- a 2016 survey on senior confidence in independent device usage and a 2015 survey on frequency of internet usage [Methodology and Data Sources](http://www.pewinternet.org/2017/05/17/older-americans-tech-methodology/).\n",
    "\n",
    "[Another useful study on video games](http://www.pewinternet.org/2015/12/15/attitudes-about-video-games/)"
   ]
  },
  {
   "cell_type": "markdown",
   "metadata": {},
   "source": [
    "#### Exploratory Data Analysis of Information Engagement/Wariness Survey\n",
    "---------------"
   ]
  },
  {
   "cell_type": "code",
   "execution_count": 14,
   "metadata": {},
   "outputs": [],
   "source": [
    "data = pd.read_csv(\"data/September 29 - November 6, 2016 - Information engaged wary - CSV.csv\")"
   ]
  },
  {
   "cell_type": "code",
   "execution_count": 20,
   "metadata": {},
   "outputs": [
    {
     "data": {
      "text/html": [
       "<div>\n",
       "<style>\n",
       "    .dataframe thead tr:only-child th {\n",
       "        text-align: right;\n",
       "    }\n",
       "\n",
       "    .dataframe thead th {\n",
       "        text-align: left;\n",
       "    }\n",
       "\n",
       "    .dataframe tbody tr th {\n",
       "        vertical-align: top;\n",
       "    }\n",
       "</style>\n",
       "<table border=\"1\" class=\"dataframe\">\n",
       "  <thead>\n",
       "    <tr style=\"text-align: right;\">\n",
       "      <th></th>\n",
       "      <th>psraid</th>\n",
       "      <th>sample</th>\n",
       "      <th>int_date</th>\n",
       "      <th>lang</th>\n",
       "      <th>comp</th>\n",
       "      <th>version</th>\n",
       "      <th>form</th>\n",
       "      <th>qs1</th>\n",
       "      <th>live1</th>\n",
       "      <th>q1a</th>\n",
       "      <th>...</th>\n",
       "      <th>hh3</th>\n",
       "      <th>ql1a</th>\n",
       "      <th>qc1</th>\n",
       "      <th>fips</th>\n",
       "      <th>usr</th>\n",
       "      <th>cregion</th>\n",
       "      <th>state</th>\n",
       "      <th>density</th>\n",
       "      <th>weight</th>\n",
       "      <th>standwt</th>\n",
       "    </tr>\n",
       "  </thead>\n",
       "  <tbody>\n",
       "    <tr>\n",
       "      <th>0</th>\n",
       "      <td>100003</td>\n",
       "      <td>1</td>\n",
       "      <td>92916</td>\n",
       "      <td>1</td>\n",
       "      <td>1</td>\n",
       "      <td>1</td>\n",
       "      <td>1</td>\n",
       "      <td></td>\n",
       "      <td>4</td>\n",
       "      <td>1</td>\n",
       "      <td>...</td>\n",
       "      <td>2</td>\n",
       "      <td></td>\n",
       "      <td></td>\n",
       "      <td>34029</td>\n",
       "      <td>S</td>\n",
       "      <td>1</td>\n",
       "      <td>34</td>\n",
       "      <td>4</td>\n",
       "      <td>2.235294</td>\n",
       "      <td>0.786190</td>\n",
       "    </tr>\n",
       "    <tr>\n",
       "      <th>1</th>\n",
       "      <td>100005</td>\n",
       "      <td>1</td>\n",
       "      <td>92916</td>\n",
       "      <td>1</td>\n",
       "      <td>1</td>\n",
       "      <td>1</td>\n",
       "      <td>2</td>\n",
       "      <td></td>\n",
       "      <td>1</td>\n",
       "      <td>1</td>\n",
       "      <td>...</td>\n",
       "      <td></td>\n",
       "      <td></td>\n",
       "      <td></td>\n",
       "      <td>36061</td>\n",
       "      <td>U</td>\n",
       "      <td>1</td>\n",
       "      <td>36</td>\n",
       "      <td>5</td>\n",
       "      <td>1.029412</td>\n",
       "      <td>0.362061</td>\n",
       "    </tr>\n",
       "    <tr>\n",
       "      <th>2</th>\n",
       "      <td>100008</td>\n",
       "      <td>1</td>\n",
       "      <td>92916</td>\n",
       "      <td>1</td>\n",
       "      <td>1</td>\n",
       "      <td>1</td>\n",
       "      <td>2</td>\n",
       "      <td></td>\n",
       "      <td>4</td>\n",
       "      <td>3</td>\n",
       "      <td>...</td>\n",
       "      <td></td>\n",
       "      <td></td>\n",
       "      <td></td>\n",
       "      <td>42039</td>\n",
       "      <td>R</td>\n",
       "      <td>1</td>\n",
       "      <td>42</td>\n",
       "      <td>1</td>\n",
       "      <td>3.029412</td>\n",
       "      <td>1.065495</td>\n",
       "    </tr>\n",
       "    <tr>\n",
       "      <th>3</th>\n",
       "      <td>100015</td>\n",
       "      <td>1</td>\n",
       "      <td>92916</td>\n",
       "      <td>1</td>\n",
       "      <td>1</td>\n",
       "      <td>1</td>\n",
       "      <td>2</td>\n",
       "      <td></td>\n",
       "      <td>3</td>\n",
       "      <td>2</td>\n",
       "      <td>...</td>\n",
       "      <td>2</td>\n",
       "      <td></td>\n",
       "      <td></td>\n",
       "      <td>12057</td>\n",
       "      <td>U</td>\n",
       "      <td>3</td>\n",
       "      <td>12</td>\n",
       "      <td>4</td>\n",
       "      <td>2.617647</td>\n",
       "      <td>0.920670</td>\n",
       "    </tr>\n",
       "    <tr>\n",
       "      <th>4</th>\n",
       "      <td>100018</td>\n",
       "      <td>1</td>\n",
       "      <td>92916</td>\n",
       "      <td>1</td>\n",
       "      <td>1</td>\n",
       "      <td>1</td>\n",
       "      <td>1</td>\n",
       "      <td></td>\n",
       "      <td>3</td>\n",
       "      <td>2</td>\n",
       "      <td>...</td>\n",
       "      <td>2</td>\n",
       "      <td>1</td>\n",
       "      <td></td>\n",
       "      <td>34029</td>\n",
       "      <td>S</td>\n",
       "      <td>1</td>\n",
       "      <td>34</td>\n",
       "      <td>4</td>\n",
       "      <td>4.941176</td>\n",
       "      <td>1.737894</td>\n",
       "    </tr>\n",
       "  </tbody>\n",
       "</table>\n",
       "<p>5 rows × 117 columns</p>\n",
       "</div>"
      ],
      "text/plain": [
       "   psraid  sample  int_date  lang  comp  version  form qs1  live1  q1a  \\\n",
       "0  100003       1     92916     1     1        1     1          4    1   \n",
       "1  100005       1     92916     1     1        1     2          1    1   \n",
       "2  100008       1     92916     1     1        1     2          4    3   \n",
       "3  100015       1     92916     1     1        1     2          3    2   \n",
       "4  100018       1     92916     1     1        1     1          3    2   \n",
       "\n",
       "     ...     hh3  ql1a  qc1   fips  usr  cregion  state  density    weight  \\\n",
       "0    ...       2             34029    S        1     34        4  2.235294   \n",
       "1    ...                     36061    U        1     36        5  1.029412   \n",
       "2    ...                     42039    R        1     42        1  3.029412   \n",
       "3    ...       2             12057    U        3     12        4  2.617647   \n",
       "4    ...       2     1       34029    S        1     34        4  4.941176   \n",
       "\n",
       "    standwt  \n",
       "0  0.786190  \n",
       "1  0.362061  \n",
       "2  1.065495  \n",
       "3  0.920670  \n",
       "4  1.737894  \n",
       "\n",
       "[5 rows x 117 columns]"
      ]
     },
     "execution_count": 20,
     "metadata": {},
     "output_type": "execute_result"
    }
   ],
   "source": [
    "data.head()"
   ]
  },
  {
   "cell_type": "code",
   "execution_count": 18,
   "metadata": {},
   "outputs": [
    {
     "data": {
      "text/plain": [
       "Index(['psraid', 'sample', 'int_date', 'lang', 'comp', 'version', 'form',\n",
       "       'qs1', 'live1', 'q1a',\n",
       "       ...\n",
       "       'hh3', 'ql1a', 'qc1', 'fips', 'usr', 'cregion', 'state', 'density',\n",
       "       'weight', 'standwt'],\n",
       "      dtype='object', length=117)"
      ]
     },
     "execution_count": 18,
     "metadata": {},
     "output_type": "execute_result"
    }
   ],
   "source": [
    "data.columns"
   ]
  },
  {
   "cell_type": "code",
   "execution_count": 16,
   "metadata": {
    "scrolled": true
   },
   "outputs": [
    {
     "data": {
      "text/plain": [
       "False"
      ]
     },
     "execution_count": 16,
     "metadata": {},
     "output_type": "execute_result"
    }
   ],
   "source": [
    "data.isnull().any().any()"
   ]
  },
  {
   "cell_type": "markdown",
   "metadata": {},
   "source": [
    "What columns subset age? What do columns mean?"
   ]
  },
  {
   "cell_type": "code",
   "execution_count": 53,
   "metadata": {},
   "outputs": [
    {
     "data": {
      "image/png": "[encoded data removed]",
      "text/plain": [
       "<matplotlib.figure.Figure at 0x1a1dfec240>"
      ]
     },
     "metadata": {},
     "output_type": "display_data"
    }
   ],
   "source": [
    "grp = data.groupby(by='live1')['sample'].count()\n",
    "plt.bar(grp.index,grp.values)\n",
    "plt.show()"
   ]
  }
 ],
 "metadata": {
  "kernelspec": {
   "display_name": "Python 3",
   "language": "python",
   "name": "python3"
  },
  "language_info": {
   "codemirror_mode": {
    "name": "ipython",
    "version": 3
   },
   "file_extension": ".py",
   "mimetype": "text/x-python",
   "name": "python",
   "nbconvert_exporter": "python",
   "pygments_lexer": "ipython3",
   "version": "3.6.2"
  }
 },
 "nbformat": 4,
 "nbformat_minor": 2
}
