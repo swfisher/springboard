{
 "cells": [
  {
   "cell_type": "markdown",
   "metadata": {},
   "source": [
    "#### Link to dataset utilized: https://www.consumerfinance.gov/data-research/consumer-complaints/\n",
    "#### add data folder to .gitignore"
   ]
  },
  {
   "cell_type": "markdown",
   "metadata": {},
   "source": [
    "# How can we build complaint analytics to help determine what matters to our customers?"
   ]
  },
  {
   "cell_type": "code",
   "execution_count": 44,
   "metadata": {
    "collapsed": true
   },
   "outputs": [],
   "source": [
    "import string\n",
    "import numpy as np\n",
    "import pandas as pd\n",
    "import scipy.stats as stats\n",
    "import matplotlib.pyplot as plt\n",
    "import seaborn as sns\n",
    "plt.style.use('ggplot')\n",
    "\n",
    "import re\n",
    "import string\n",
    "\n",
    "from sklearn.feature_extraction.text import CountVectorizer\n",
    "from sklearn.feature_extraction.text import TfidfTransformer\n",
    "from sklearn.feature_selection import chi2\n",
    "from sklearn.feature_selection import f_classif\n",
    "\n",
    "def dateLookup(s):\n",
    "    \"\"\"\n",
    "    Memoization solution for faster date_time parsing\n",
    "    source: https://stackoverflow.com/questions/29882573/pandas-slow-date-conversion\n",
    "    \"\"\"\n",
    "    dates = {date:pd.to_datetime(date) for date in s.unique()}\n",
    "    return s.map(dates)\n",
    "\n",
    "def remove_redact(text):\n",
    "    return re.sub('XX/?','',text)\n",
    "\n",
    "def bow_vectorize(text_series,max_df):\n",
    "    cv = CountVectorizer(stop_words='english',min_df=0.0001,max_df=max_df,ngram_range=(1,6), max_features = 15000)\n",
    "    m = cv.fit_transform(text_series)\n",
    "    return {'cv':cv,'m':m}\n",
    "\n",
    "def bow_conform(text_series,feature_names):\n",
    "    cv = CountVectorizer(stop_words='english',ngram_range=(1,6), max_features = 15000, vocabulary = feature_names)\n",
    "    m = cv.fit_transform(text_series)\n",
    "    return {'cv':cv,'m':m}\n",
    "\n",
    "def tfidf_vectorize(bow_m,sublinear_tf):\n",
    "    tt = TfidfTransformer(norm='l2',smooth_idf=True,use_idf=True,sublinear_tf=sublinear_tf)\n",
    "    m = tt.fit_transform(bow_m)\n",
    "    return {'tt':tt,'m':m}\n"
   ]
  },
  {
   "cell_type": "code",
   "execution_count": 3,
   "metadata": {
    "collapsed": true
   },
   "outputs": [],
   "source": [
    "c = pd.read_csv('Consumer_Complaints.csv')\n",
    "\n",
    "#Take subset where complaint text is available\n",
    "c = c[c['Consumer consent provided?'] == 'Consent provided']\n",
    "\n",
    "#Convert yes/no strings to bool\n",
    "for col in ['Consumer disputed?','Timely response?']:\n",
    "    c[col] = (c[col] == 'Yes')\n",
    "    \n",
    "#Convert datetimes    \n",
    "for col in ['Date received', 'Date sent to company']:\n",
    "    c[col] = dateLookup(c[col])\n",
    "    \n",
    "#All complaints in our subset are submitted via web and have consent provided.\n",
    "c = c.drop(['Consumer consent provided?','Submitted via'],axis='columns')\n",
    "\n",
    "#Convert all others, convert yes/no bools to int64\n",
    "dataTypes = {\n",
    "    'Product':'category',\n",
    "    'Sub-product':'category',\n",
    "    'Issue':'category',\n",
    "    'Sub-issue':'category',\n",
    "    'Consumer complaint narrative':str,\n",
    "    'Company public response':str,\n",
    "    'Company':'category',\n",
    "    'State':'category',\n",
    "    'ZIP code':str,\n",
    "    'Tags':str,\n",
    "    'Company response to consumer':'category',\n",
    "    'Timely response?':'int64',\n",
    "    'Consumer disputed?':'int64',\n",
    "    'Complaint ID':'int64'\n",
    "}\n",
    "\n",
    "c = c.astype(dataTypes)\n",
    "\n",
    "columnNames = {\n",
    "    'Date received':'date_received',\n",
    "    'Product':'product',\n",
    "    'Sub-product':'sub_product',\n",
    "    'Issue':'issue',\n",
    "    'Sub-issue':'sub_issue',\n",
    "    'Consumer complaint narrative':'text',\n",
    "    'Company public response':'pub_reply',\n",
    "    'Company':'company',\n",
    "    'State':'state',\n",
    "    'ZIP code':'zip_code',\n",
    "    'Tags':'tags',\n",
    "    'Date sent to company':'date_sent',\n",
    "    'Company response to consumer':'cust_reply',\n",
    "    'Timely response?':'timely_reply',\n",
    "    'Consumer disputed?':'disputed',\n",
    "    'Complaint ID':'ID'\n",
    "}\n",
    "\n",
    "c = c.rename(columns = columnNames)\n",
    "\n",
    "b = c[c['product'] == 'Bank account or service'].copy()\n",
    "\n",
    "#There are a few missing state entries, and not every complaint has a sub-product or sub-issue.\n",
    "\n",
    "#Cleaning Up for Word Vectorization.\n",
    "#Remove XXXXs\n",
    "#Are numbers significant/helpful? Is there another format that might make them moreso?\n",
    "#Strings of XXXX are used for redaction. These will need to be removed.\n",
    "\n",
    "b.loc[:,'clean_text'] = b['text'].apply(remove_redact)\n",
    "\n",
    "issueAliases = {\n",
    "    'Account opening, closing, or management':'Account',\n",
    "    'Deposits and withdrawals':'Transactions',\n",
    "    'Making/receiving payments, sending money':'Payments',\n",
    "    'Problems caused by my funds being low':'Low Funds',\n",
    "    'Using a debit or ATM card':'Card'\n",
    "}\n",
    "\n",
    "b['issue'] = b['issue'].map(issueAliases).copy()\n",
    "\n",
    "issues = sorted(list(issueAliases.values()))\n",
    "\n",
    "#Set the random seed\n",
    "np.random.seed(42)"
   ]
  },
  {
   "cell_type": "markdown",
   "metadata": {},
   "source": [
    "# Sentiment Scoring\n",
    "\n",
    "1. function takes in a document and returns pos,neg,neutral matches\n",
    "2. wrapper function computes metrics based on the raw counts\n",
    "3. wrapper of wrappers compare various metrics."
   ]
  },
  {
   "cell_type": "code",
   "execution_count": 27,
   "metadata": {},
   "outputs": [],
   "source": [
    "neg_words = pd.read_csv('data/opinion_lexicon_English/negative-words.txt',sep=' ',\n",
    "                        skiprows=33,header=None,encoding='latin 1').values\n",
    "pos_words = pd.read_csv('data/opinion_lexicon_English/positive-words.txt',sep=' ',\n",
    "                        skiprows=33,header=None,encoding='latin 1').values\n"
   ]
  },
  {
   "cell_type": "markdown",
   "metadata": {},
   "source": [
    "#### note that there are 2007 pos words and 4783 neg words. Is the inherent probability of occurence for either set balanced? (does language have a global bias on average?)  read original author's thoughts on this/email if not available.\n",
    "### How to determine if comparison between categories is believable?\n",
    "#### Try building in time-discounting function.\n",
    "### what does the distribution of each metric look like? (normal-ish so far)\n",
    "\n",
    "#### break up functions so that computing raw pos/neg/neut vectors is seperate from computing metrics (speed up run time)"
   ]
  },
  {
   "cell_type": "code",
   "execution_count": 215,
   "metadata": {
    "collapsed": true
   },
   "outputs": [],
   "source": [
    "np.random.seed(42)\n",
    "issue_sample_size = 800;\n",
    "issue_text_samples = {i:b[b['issue'] == i].sample(issue_sample_size)['clean_text']. \\\n",
    "                      reset_index(drop=True) for i in issues}"
   ]
  },
  {
   "cell_type": "code",
   "execution_count": 232,
   "metadata": {},
   "outputs": [],
   "source": [
    "'''\n",
    "current metric: (neg-pos)/(1+np.log(neutral))\n",
    "{'Account': 0.1420303441945025,\n",
    " 'Card': 0.47845196278745583,\n",
    " 'Low Funds': 0.1955292797192287,\n",
    " 'Payments': 0.37187204271891994,\n",
    " 'Transactions': 0.25805231924484201}\n",
    "'''\n",
    "\n",
    "def mean_raw_polarity(s_matrix):\n",
    "    polarity_vec = s_matrix[:,0]-s_matrix[:,2]\n",
    "    return np.mean(polarity_vec)\n",
    "\n",
    "def mean_weighted_polarity(s_matrix):\n",
    "    polarity_vec = s_matrix[:,0]-s_matrix[:,2]\n",
    "    log_neutral_vec = 1+np.log(s_matrix[:,1])\n",
    "    return np.mean(polarity_vec/log_neutral_vec)\n",
    "\n",
    "metrics = [mean_raw_polarity,mean_weighted_polarity,mean_raw_magnitude]\n",
    "\n",
    "def get_words(document):\n",
    "    # Remove punctuation.\n",
    "    doc = document.translate(str.maketrans('','',string.punctuation))\n",
    "    # Convert to lower case\n",
    "    doc = doc.lower()\n",
    "    # Split at spaces.\n",
    "    return np.array(doc.split(' '))\n",
    "\n",
    "def get_matches(document,pos_words,neg_words):\n",
    "    words = get_words(document)\n",
    "    pos_matches = np.isin(words,pos_words)\n",
    "    pos = sum(pos_matches)\n",
    "    # Mask the words checked for negative to exclude positive matches.\n",
    "    neg_matches = np.isin(words[np.invert(pos_matches)],neg_words)\n",
    "    neg = sum(neg_matches)\n",
    "    neutral = len(words)-(pos+neg)\n",
    "    return (np.array([pos,neutral,neg]))\n",
    "\n",
    "def get_all_matches(document_array,pos_words,neg_words):\n",
    "    match_arrays = []\n",
    "    for document in document_array:\n",
    "        match_arrays.append(get_matches(document,pos_words,neg_words))\n",
    "    return np.matrix(match_arrays)\n",
    "\n",
    "def get_sentiment_matrices(topic_docArray_dict,pos_words,neg_words):\n",
    "    return [get_all_matches(topic_docArray_dict[topic],pos_words,neg_words) \n",
    "                        for topic in topic_docArray_dict.keys()]\n",
    "\n",
    "def get_metrics_matrix(topic_docArray_dict,pos_words,neg_words,metrics):\n",
    "    sent_matrices = get_sentiment_matrices(topic_docArray_dict,pos_words,neg_words)\n",
    "    metric_cols = []\n",
    "    for metric in metrics:\n",
    "        values = []\n",
    "        for matrix in sent_matrices:\n",
    "            values.append(metric(matrix))\n",
    "        values = np.array(values)\n",
    "        metric_cols.append(values)\n",
    "    return np.matrix(metric_cols).T\n",
    "\n",
    "results = pd.DataFrame(get_metrics_matrix(issue_text_samples,pos_words,neg_words,metrics),index=issues)\n",
    "    "
   ]
  },
  {
   "cell_type": "code",
   "execution_count": 233,
   "metadata": {},
   "outputs": [
    {
     "name": "stdout",
     "output_type": "stream",
     "text": [
      "                    0         1        2\n",
      "Account      -0.98250 -0.148817  8.36500\n",
      "Card         -3.27250 -0.501182  9.61250\n",
      "Low Funds    -1.15000 -0.183638  7.75750\n",
      "Payments     -2.43125 -0.371364  8.60375\n",
      "Transactions -1.72875 -0.268850  8.04375\n"
     ]
    }
   ],
   "source": [
    "print(results)"
   ]
  },
  {
   "cell_type": "markdown",
   "metadata": {},
   "source": [
    "# Current goal: Maximize reliability of model by optimizing for precision and true negative rate and generating a metric of confidence/overall confusion that can be used to ask a human to classify the example instead."
   ]
  },
  {
   "cell_type": "markdown",
   "metadata": {},
   "source": [
    "## What is the fastest and most reliable way for us to classify the issues in our own complaint data?\n",
    "\n",
    "Labeling every ticket by hand costs human labor. Can an algorithm learn to label the issue addressed in each message, based on a handful of human-labeled examples? \n",
    "\n",
    "Since a human could definitely infer the issue addressed in each message by reading it, we can intuit that the text contains enough information to accurately predict the issue. This will depend largely on our ability to create **seperable categories**, which we can tell apart based on **quantifiable features** derived from the text. We'll then need to find a classification algorithm that latches onto those distinctions without being overzealous.\n",
    "\n",
    "We'll reduce the information contained in the language of each ticket to a matrix with features, labels and observations. The features will be quantifiable aspects of that message, the labels will be the human-labeled issue, and each message will be an observation.\n",
    "\n",
    "The most prevalent technique for extracting features from text is a \"Bag of Words\" matrix that shows how many time each phrase occured in a document. However, the phrases we're especially interested are those that are very commonly stated about a specific topic and very rarely stated about other topics. \n",
    "\n",
    "The presence of such phrases should be predictive of the issue, especially when they co-occur. Conversely, we'll have plenty of generic phrases which are common across tickets or appear too rarely to be helpful.\n",
    "\n",
    "Let's find out what the distribution of specific vs non-specific terms looks like. To do this we'll use a metric formally called TFIDF, designed to measure term specificity. TFIDF balances how often a term occurs in a particular issue against how often it occurs in general. To help us remember what we're talking about, we'll just refer to it as term specificity."
   ]
  },
  {
   "cell_type": "markdown",
   "metadata": {},
   "source": [
    "### Specific terms in the text content for each issue are far outnumbered by generic terms."
   ]
  },
  {
   "cell_type": "code",
   "execution_count": 3,
   "metadata": {
    "collapsed": true
   },
   "outputs": [],
   "source": [
    "# We'll take a representive sampling of each issue's text.\n",
    "\n",
    "issue_sample_size = 500;\n",
    "issue_text_samples = {i:b[b['issue'] == i].sample(issue_sample_size)['clean_text'].reset_index(drop=True) for i in issues}\n",
    "text_globs = pd.Series({i:' '.join(issue_text_samples[i]) for i in issues},index = issues)\n"
   ]
  },
  {
   "cell_type": "code",
   "execution_count": 4,
   "metadata": {
    "collapsed": true
   },
   "outputs": [],
   "source": [
    "glob_bow = bow_vectorize(text_globs,max_df=1.0)\n",
    "#Computes sublinear tf, in which term frequency is replaced with 1 + log(tf), functions better for Doc Count.\n",
    "glob_tfidf = tfidf_vectorize(glob_bow['m'],sublinear_tf=True)"
   ]
  },
  {
   "cell_type": "code",
   "execution_count": 5,
   "metadata": {
    "collapsed": true
   },
   "outputs": [],
   "source": [
    "bow_m = glob_bow['m'].todense()\n",
    "tfidf_m = glob_tfidf['m'].todense()\n",
    "feature_names = glob_bow['cv'].get_feature_names()\n",
    "metrics = ['bow','tfidf']\n",
    "comp_m = np.concatenate([row for i in range(bow_m.shape[0]) for row in \n",
    "                         [bow_m[i,:],tfidf_m[i,:]]\n",
    "                        ])\n",
    "comp_index = pd.MultiIndex.from_product([issues,metrics], names=['Issue', 'Metric'])\n",
    "feature_index = pd.Index(feature_names,name='Features')\n",
    "glob_df = pd.DataFrame(comp_m.T,index=feature_index, columns=comp_index)\n"
   ]
  },
  {
   "cell_type": "code",
   "execution_count": 6,
   "metadata": {},
   "outputs": [
    {
     "data": {
      "image/png": "[encoded data removed]",
      "text/plain": [
       "<matplotlib.figure.Figure at 0x1a0fe93978>"
      ]
     },
     "metadata": {},
     "output_type": "display_data"
    }
   ],
   "source": [
    "plt.figure(figsize=(10,6))\n",
    "plt.title(\"Distributions of Specificity Values for Each Issue\")\n",
    "for issue in issues:\n",
    "    sns.kdeplot(glob_df.loc[:,(issue,'tfidf')],shade=True,label=issue)\n",
    "plt.ylabel('Frequency')\n",
    "plt.xlabel('Specificity Values')\n",
    "plt.show()"
   ]
  },
  {
   "cell_type": "code",
   "execution_count": 7,
   "metadata": {
    "collapsed": true
   },
   "outputs": [],
   "source": [
    "_ = np.random.choice(issues)"
   ]
  },
  {
   "cell_type": "code",
   "execution_count": 8,
   "metadata": {},
   "outputs": [
    {
     "name": "stdout",
     "output_type": "stream",
     "text": [
      "23 \n",
      "\n",
      "I was taking money out of a Chase ATM Machine at a Chase Bank on   in  Ohio  , 2016 at roughly . During the transaction, the power failed at the ATM, debiting the amount, while not giving me my money ( Approximately {$120.00} ). I immediately called Chase, who told me I would receive my money \" within 12 hours '' and an email confirming it would be sent, which I never received. 2 days later, without the money, I called again, and was repeatedly told \" another 24 hours ''. \n",
      "\n",
      "This happened for 3 consecutive days, being told my \" money was in the process of being transferred ''. Each time I was told to wait, in that \" 24 hours '' my money would be refunded. \n",
      "\n",
      "Finally, after over a week of no information, I demanded to talk to a superior. I was told the investigation was completed, and that my money *should* have been issued, but for whatever reason, it was n't because of an \" unspecified error '', but they would offer me \" conditional credit '' that they would give me, but take out in 7 days. I declined, as this is not a conditional credit since the matter was already resolved through investigation. Throughout this entire process, I was never told once about the Consumer Protection Act or any other remedies to this. That I would \" have to wait until their computers figured it out ''. \n",
      "\n",
      "Demanding some sort of written confirmation, I was sent an email confirming that the investigation was completed 5 days after the transaction, and that the amount should have been immediately credited, which it was not. According to the Funds Transfer Act, the money should have been credited then ( I will be including the email ). \n",
      "\n",
      "Today, I called, a full 12 days after my money was taken, and was told it will take \" another 48 hours possibly '' to get the money, although at this point, I have no faith that the bank will fulfill its promises to me, and they refuse to give me any written confirmation that the money will be returned. Every time, Chase confirmed that the money was not refunded, but could not give me a reason why. \n",
      "\n",
      "I have included the image of the email sent by Chase, confirming the investigation was completed on  , 2016, as well a read-only  file from the Bank, including all my transactions in the period 2016-2016, confirming that the amount was not refunded.\n"
     ]
    }
   ],
   "source": [
    "a = issue_text_samples[_].sample(1)\n",
    "print(a.index[0],'\\n')\n",
    "print(a.values[0])"
   ]
  },
  {
   "cell_type": "markdown",
   "metadata": {},
   "source": [
    "issueAliases = {\n",
    "    'Account opening, closing, or management':'Account',\n",
    "    'Deposits and withdrawals':'Transactions',\n",
    "    'Making/receiving payments, sending money':'Payments',\n",
    "    'Problems caused by my funds being low':'Low Funds',\n",
    "    'Using a debit or ATM card':'Card'\n",
    "}"
   ]
  },
  {
   "cell_type": "markdown",
   "metadata": {},
   "source": [
    "As a human, I summarize what I read. This merchant processor was incorrectly handling payments. A false id theft label was involved. Situation seems pretty catastrophic. Lots of double crossing. \n",
    "Guess: account or payments \n",
    "Actual: payments.\n",
    "\n",
    "#343: summary: Bank refused customer the right to deposit checks. Guess: Transactions. Actual: Transactions.\n",
    "\n",
    "#436: summary: Brain enhancer. Redacted XXXX dollar amounts may have been helpful. xxxx bucks indicates a dollar amount. Brought should be bought, only way to fix this would inference from context. Guess: Payments, Second Guess: Transactions. Actual: Card\n",
    "\n",
    "#495: Inappropriate, unfair, and greedy, emotional distress should send clear signals to product team. This should have negative sentiment. Customer mentioned 4.00 to name- not clear from words, but meaning indicates low funds. Issue was that customer received unfair overdraft fees. Guess: Low Funds. Actual: Account.\n",
    "\n",
    "#76: Issue is that chase failed to give a withdrawn amount at an ATM which triggered some kind of ongoing bug. Guess: Transactions. Actual: Card. Error: Note that the issue involved a card. Which labels override the specificity of the other?\n",
    "\n",
    "#81: A redacted third party caused a charge for a membership to debited from customer's PNC Account. Customer blaims PNC from re-applying the charge. Customer wants account closed. The customer did not initiate the payments. Guess: Account Second: Payments. Actual: Card. Error: The card was used for the payment, therefore it is considered a card issue.\n",
    "\n",
    "#55: Customer can't transfer money out of wells fargo. Guess: Payments Second: Accounts Actual: Transactions. Error: Wire transfers are considered transactions.\n",
    "\n",
    "#453: Unauthorized charges, followed by overdraft fees. Guess: Card, Second: Low Funds. Actual: Card. Feedback: Card seems to supercede other issues when in doubt.\n",
    "\n",
    "#412: Problem with wells fargo handling funds being released from an insurance claims check. Guess: Transactions, Second: Account. Actual: Transactions\n",
    "\n",
    "Transactions is intra. Payments is extra.\n",
    "\n",
    "#16: Account was supposed to reject excessive charges. Has to do with low funds, but is an account management issue. Could also be considered a payments issue. Guess: Account, Second: low funds. Actual: Low funds. Error: Low funds is more specific?\n",
    "\n",
    "#335: Wells fargo, overdraft. Guess: Low Funds, Actual: Low Funds.\n",
    "\n",
    "### I would like to continue this process alongside the model. Perhaps I can test the hypothesis that my accuracy will be the same as the models.\n",
    "\n",
    "Note: After 81 I looked up CFPB's definition of the categories and now have them handy. Unfortunately, they were updated.\n",
    "\n",
    "Q: What is the diff btw payments and transactions?\n",
    "\n",
    "Q: Who are the most complained about banks? per category?\n",
    "\n",
    "\n",
    "\n",
    "Tech:\n",
    "specking -> speaking\n",
    "insuranceclaimscheck was a run on in 412, seperated words might allow for better word vectors.\n",
    "Contractions handled might result in slightly better word vectors.\n",
    "Interest is mispelled as interst. Overall spelling is good. "
   ]
  },
  {
   "cell_type": "code",
   "execution_count": 9,
   "metadata": {},
   "outputs": [
    {
     "name": "stdout",
     "output_type": "stream",
     "text": [
      "Issue was: Card\n"
     ]
    }
   ],
   "source": [
    "print(\"Issue was: \" + str(_))"
   ]
  },
  {
   "cell_type": "markdown",
   "metadata": {},
   "source": [
    "### Let's take a look at a few of the most and least specific terms for each issue."
   ]
  },
  {
   "cell_type": "markdown",
   "metadata": {},
   "source": [
    "\n",
    "\n",
    "\n"
   ]
  },
  {
   "cell_type": "code",
   "execution_count": 10,
   "metadata": {
    "scrolled": false
   },
   "outputs": [
    {
     "name": "stdout",
     "output_type": "stream",
     "text": [
      "\n",
      "\u001b[1mAccount Issues\u001b[0m \n",
      "\n",
      "One Word Phrases\n",
      "              Frequency  Specificity\n",
      "Features                            \n",
      "aadvantage         31.0     0.033437\n",
      "citigold           66.0     0.031575\n",
      "promo              24.0     0.031507\n",
      "qualifying         24.0     0.031507\n",
      "account          2014.0     0.030931\n",
      "bank             1051.0     0.028594\n",
      "points             99.0     0.028257\n",
      "apy                15.0     0.027963\n",
      "promotion         257.0     0.027824\n",
      "thankyou           14.0     0.027443\n",
      "00                580.0     0.026458\n",
      "ira                25.0     0.025668\n",
      "requirements      141.0     0.025274\n",
      "told              414.0     0.025247\n",
      "eligibility        10.0     0.024905\n",
      "\n",
      "Two Word Phrases\n",
      "                   Frequency  Specificity\n",
      "Features                                 \n",
      "citigold checking       32.0     0.033677\n",
      "bonus miles             20.0     0.030132\n",
      "promo code              19.0     0.029745\n",
      "account promotion       19.0     0.029745\n",
      "opened citigold         18.0     0.029338\n",
      "promotion code          18.0     0.029338\n",
      "met requirements        42.0     0.028825\n",
      "cash bonus              16.0     0.028450\n",
      "aadvantage miles        14.0     0.027443\n",
      "thank points            14.0     0.027443\n",
      "\n",
      "\n",
      "\u001b[1mCard Issues\u001b[0m \n",
      "\n",
      "One Word Phrases\n",
      "          Frequency  Specificity\n",
      "Features                        \n",
      "bike           23.0     0.032306\n",
      "bank         1204.0     0.030127\n",
      "account      1135.0     0.029907\n",
      "card         1115.0     0.029841\n",
      "00            804.0     0.028624\n",
      "st             13.0     0.027849\n",
      "tow            12.0     0.027224\n",
      "money         518.0     0.026987\n",
      "debit         516.0     0.026973\n",
      "did           507.0     0.026907\n",
      "told          444.0     0.026413\n",
      "atm           375.0     0.025785\n",
      "claim         359.0     0.025622\n",
      "called        357.0     0.025602\n",
      "chase         348.0     0.025507\n",
      "\n",
      "Two Word Phrases\n",
      "                   Frequency  Specificity\n",
      "Features                                 \n",
      "lost stolen             19.0     0.030813\n",
      "cancel card             17.0     0.029945\n",
      "debit card             417.0     0.026180\n",
      "tow company             10.0     0.025799\n",
      "everyday debit           9.0     0.024976\n",
      "usaa fsb                 9.0     0.024976\n",
      "daughters account        8.0     0.024056\n",
      "card ending              8.0     0.024056\n",
      "unauthorized atm         8.0     0.024056\n",
      "reopen claim             8.0     0.024056\n",
      "\n",
      "\n",
      "\u001b[1mLow Funds Issues\u001b[0m \n",
      "\n",
      "One Word Phrases\n",
      "           Frequency  Specificity\n",
      "Features                         \n",
      "authori         22.0     0.032609\n",
      "zed             22.0     0.032609\n",
      "account       1792.0     0.032250\n",
      "00            1301.0     0.031034\n",
      "bank          1244.0     0.030864\n",
      "overdraft      921.0     0.029722\n",
      "fees           866.0     0.029488\n",
      "sustained       14.0     0.029006\n",
      "fee            572.0     0.027913\n",
      "charged        403.0     0.026583\n",
      "pymt            10.0     0.026324\n",
      "lowest          10.0     0.026324\n",
      "maximize        10.0     0.026324\n",
      "money          350.0     0.026047\n",
      "charge         328.0     0.025801\n",
      "\n",
      "Two Word Phrases\n",
      "                         Frequency  Specificity\n",
      "Features                                       \n",
      "authori zed                   22.0     0.032609\n",
      "purchase authori              16.0     0.030071\n",
      "finance charge                13.0     0.028416\n",
      "excessive overdraft           12.0     0.027778\n",
      "charge finance                12.0     0.027778\n",
      "opted overdraft               12.0     0.027778\n",
      "description overdraft         10.0     0.026324\n",
      "transaction description       10.0     0.026324\n",
      "sustained overdraft            9.0     0.025485\n",
      "zed 16                         9.0     0.025485\n",
      "\n",
      "\n",
      "\u001b[1mPayments Issues\u001b[0m \n",
      "\n",
      "One Word Phrases\n",
      "          Frequency  Specificity\n",
      "Features                        \n",
      "bank         1298.0     0.030841\n",
      "account      1247.0     0.030690\n",
      "exhibit        17.0     0.030373\n",
      "rt             14.0     0.028834\n",
      "payment       717.0     0.028600\n",
      "00            668.0     0.028333\n",
      "check         591.0     0.027871\n",
      "adp            12.0     0.027613\n",
      "wfb            25.0     0.026970\n",
      "did           462.0     0.026941\n",
      "money         438.0     0.026740\n",
      "told          430.0     0.026670\n",
      "credit        384.0     0.026243\n",
      "pay           348.0     0.025871\n",
      "called        308.0     0.025410\n",
      "\n",
      "Two Word Phrases\n",
      "                     Frequency  Specificity\n",
      "Features                                   \n",
      "sent payment              11.0     0.026923\n",
      "late payment              23.0     0.026437\n",
      "complaint complaint       10.0     0.026168\n",
      "personal documents         9.0     0.025333\n",
      "popular community          9.0     0.025333\n",
      "bank america             199.0     0.023761\n",
      "wells fargo              181.0     0.023403\n",
      "loan wells                 7.0     0.023342\n",
      "power company              7.0     0.023342\n",
      "payments payment           7.0     0.023342\n",
      "\n",
      "\n",
      "\u001b[1mTransactions Issues\u001b[0m \n",
      "\n",
      "One Word Phrases\n",
      "          Frequency  Specificity\n",
      "Features                        \n",
      "account      1688.0     0.032268\n",
      "bank         1397.0     0.031544\n",
      "check         901.0     0.029865\n",
      "00            882.0     0.029784\n",
      "money         681.0     0.028794\n",
      "told          471.0     0.027383\n",
      "deposit       467.0     0.027350\n",
      "funds         459.0     0.027284\n",
      "did           403.0     0.026786\n",
      "macy           10.0     0.026526\n",
      "nf             10.0     0.026526\n",
      "chase         310.0     0.025782\n",
      "webster         9.0     0.025679\n",
      "called        294.0     0.025579\n",
      "time          283.0     0.025433\n",
      "\n",
      "Two Word Phrases\n",
      "                Frequency  Specificity\n",
      "Features                              \n",
      "york community       13.0     0.028633\n",
      "webster bank          9.0     0.025679\n",
      "legal copies          8.0     0.024733\n",
      "wells fargo         213.0     0.024346\n",
      "hsa bank             15.0     0.024028\n",
      "surety bond           7.0     0.023661\n",
      "regulation cc         7.0     0.023661\n",
      "deposit slip          7.0     0.023661\n",
      "hold deposit          7.0     0.023661\n",
      "mobile deposit       14.0     0.023581\n",
      "\n"
     ]
    }
   ],
   "source": [
    "np.random.seed(47)\n",
    "\n",
    "for issue in issues:\n",
    "    print()\n",
    "    print('\\033[1m' + issue + ' Issues' + '\\033[0m','\\n')\n",
    "    it = glob_df.loc[:,(issue,['tfidf','bow'])]\n",
    "    it.columns = it.columns.get_level_values(1)\n",
    "    it.columns = [\"Frequency\",\"Specificity\"]\n",
    "    unigrams = it.loc[[i for i in glob_df.index if len(i.split(' ')) == 1]].sort_values(by='Specificity',ascending=False)\n",
    "    bigrams = it.loc[[i for i in glob_df.index if len(i.split(' ')) == 2]].sort_values(by='Specificity',ascending=False)\n",
    "    it = it.sort_values(by=['Specificity'],ascending=False)\n",
    "    print('One Word Phrases')\n",
    "    print(unigrams.head(15))\n",
    "    print()\n",
    "    print('Two Word Phrases')\n",
    "    print(bigrams.head(10))\n",
    "    print()"
   ]
  },
  {
   "cell_type": "markdown",
   "metadata": {},
   "source": [
    "### We'll need a good strategy for handling numeric values\n",
    "\n",
    "The above examples illustrate that numeric values play a peculiar role in our extracted terms. If we transform these into ranges that capture the way they are being uses, these features might retain their specificity whilst becoming more prevalent within the issue as a whole. For example, 34 and 35 dollar fees are popular terms in 'Low Funds' that can be aggregated.\n",
    "\n",
    "### Depending on the problem framing, we may want to remove certain proper nouns.\n",
    "\n",
    "Names of banks in the CDFI data set that this project utilizes may not be realistic terms to consider, depending on the project's final framing of client + issue."
   ]
  },
  {
   "cell_type": "markdown",
   "metadata": {},
   "source": [
    "### How would a classifier do with predicting the topic based on these collections of terms?\n",
    "\n",
    "A multinomial bayes classifier, based on a straight forward extension of Baye's theorem, was trained to predict the issue based on the term specificity scores for the words in each document.\n",
    "\n",
    "The heatmap matrix below illustrates the classifier's ability to distinguish between various classes. "
   ]
  },
  {
   "cell_type": "code",
   "execution_count": 11,
   "metadata": {
    "collapsed": true
   },
   "outputs": [],
   "source": [
    "from sklearn.naive_bayes import MultinomialNB\n",
    "from sklearn import metrics\n",
    "from sklearn.model_selection import train_test_split"
   ]
  },
  {
   "cell_type": "code",
   "execution_count": 12,
   "metadata": {
    "collapsed": true
   },
   "outputs": [],
   "source": [
    "example_set = b.reset_index(drop=True)[['clean_text','issue']].sort_index()"
   ]
  },
  {
   "cell_type": "code",
   "execution_count": 13,
   "metadata": {
    "collapsed": true
   },
   "outputs": [],
   "source": [
    "#assemble training examples and labels for unbalanced set\n",
    "#Make the vocabulary correspond to the one learned from the topic globs.\n",
    "examples_bow = bow_vectorize(example_set['clean_text'],(1.0))\n",
    "examples_tfidf = tfidf_vectorize(examples_bow['m'],sublinear_tf=True)\n",
    "labels = example_set['issue']\n",
    "feature_names = pd.Series(examples_bow['cv'].get_feature_names())"
   ]
  },
  {
   "cell_type": "markdown",
   "metadata": {},
   "source": [
    "### A binary Chi2 test offers a better measure of the term's correlation to the class than the class tfidf."
   ]
  },
  {
   "cell_type": "markdown",
   "metadata": {},
   "source": [
    "### Do this by assembling a matrix of features' chi2 value for each class as well as it's overall?\n",
    "\n",
    "### Try assembling a symmetric matrix of the distance between each classes chi2 vectors. Blending classes ought to have smaller distance. Another way to quantify blend.\n",
    "\n",
    "### Is localizing the confusion to particular terms useful? Which terms contribute to the total confusion between classes?\n",
    "\n",
    "##### It will be interesting to compare the relative degree of confusion that different algorithms for classification will exhibit.\n",
    "\n",
    "##### Possible end result: Compute IDF discounting on each term on the class level. Then use Log Term Frequency on the document level to apply IDFs to novel messages. Update the IDF based on new info every ____ hours."
   ]
  },
  {
   "cell_type": "markdown",
   "metadata": {},
   "source": [
    "# Note: make Sure this section can run independently of vestigial stuff."
   ]
  },
  {
   "cell_type": "code",
   "execution_count": 14,
   "metadata": {
    "scrolled": false
   },
   "outputs": [
    {
     "name": "stdout",
     "output_type": "stream",
     "text": [
      "Account\n",
      "['bonus' 'promotion' 'requirements' 'citi' 'miles' 'overdraft' 'points'\n",
      " 'offer' 'citigold' 'opened' 'met' 'opening' 'open' 'promotional'\n",
      " 'overdraft fees' 'citibank' 'transaction' 'met requirements' 'atm'\n",
      " 'transactions' 'closed' 'citigold checking' 'eligible'\n",
      " 'citigold checking account' 'check' 'code' 'close' 'terms' 'funds' 'money'\n",
      " 'account closed' 'overdraft fee' '90' '90 days' '00 bonus' 'charges'\n",
      " '35 00' 'close account' 'aadvantage' '35' 'application' 'opened account'\n",
      " 'receive bonus' 'claim' 'opening account' 'promotion code' 'open account'\n",
      " 'targeted' 'completed requirements' 'opened citigold' 'pending'\n",
      " 'promotional offer' 'citigold account' 'account opening' 'confirmed'\n",
      " 'accounts' 'conditions' 'day' 'account promotion' 'qualified'\n",
      " 'credit report' 'promo' 'charged overdraft' 'open checking' 'meeting'\n",
      " 'debit' 'fulfilled' 'fees' 'consecutive' 'bonus miles'\n",
      " 'opened citigold checking' 'account opened' '00 overdraft' 'completing'\n",
      " 'opened citigold checking account' 'qualifying' 'cashed'\n",
      " 'consecutive months' 'qualify' 'funds available' 'aadvantage miles'\n",
      " 'promised' 'inquiry' 'cover' 'charged' 'overdrawn' 'deposited'\n",
      " 'receive miles' 'secure message' 'charge' 'secure' 'payment' 'available'\n",
      " 'closed account' 'withdrawal' 'receive' 'criteria' 'monthly' 'gold'\n",
      " 'closing']\n",
      "Card\n",
      "['debit card' 'card' 'debit' 'atm' 'dispute' 'claim' 'pin' 'chip'\n",
      " 'provisional' 'fraudulent charges' 'provisional credit' 'card stolen'\n",
      " 'card used' 'atm card' 'card number' 'new card' 'direct express'\n",
      " 'claim denied' 'stolen' 'atm withdrawals' 'debit card stolen' 'merchant'\n",
      " 'machine' 'police report' 'express debit' 'police' 'charges' 'purchase'\n",
      " 'used' 'express debit card' 'unauthorized' 'filed dispute' 'debit cards'\n",
      " 'debit card number' 'temporary credit' 'card possession' 'fraudulent'\n",
      " 'hotel' 'transaction' 'denied claim' 'filed' 'used debit card'\n",
      " 'used debit' 'new debit' '00 atm' 'bank atm' 'debit card used' 'card chip'\n",
      " 'express' 'new debit card' 'disputed' 'atm machine' 'cards'\n",
      " 'unauthorized charges' 'claims' 'used card' 'cancel card' 'visa'\n",
      " 'direct express debit' 'atms' 'fraud' 'use atm' 'wallet' 'withdrawals'\n",
      " 'chase debit' 'fraudulent transactions' 'filed police report'\n",
      " 'transactions' 'atm debit card' 'number card' 'investigation' 'rebuttal'\n",
      " 'filed police' 'dispute charge' 'machines' 'temporary'\n",
      " 'charges debit card' 'card information' 'denied' 'america debit card'\n",
      " 'bank america debit card' 'atm machines' 'pin number' 'disputed charge'\n",
      " 'atm debit' 'netspend' 'credit reversed' 'charges debit' 'used atm'\n",
      " 'america debit' 'bank america debit' 'dispute charges'\n",
      " 'unauthorized transactions' 'filed claim' 'check' 'pin used' 'card issued'\n",
      " 'unauthorized atm' 'issued provisional' 'visa debit card']\n",
      "Low Funds\n",
      "['overdraft' 'overdraft fees' 'fees' 'overdraft fee' '35 00' '35' 'charged'\n",
      " '00 overdraft' 'charged overdraft' 'fee' 'overdraft protection'\n",
      " 'charged overdraft fees' 'overdrawn' 'cover' '00 overdraft fees'\n",
      " 'charge overdraft' 'nsf' 'negative' 'charged 35' 'charged 35 00'\n",
      " '35 00 overdraft' 'charge' 'overdrafts' 'draft' '00 overdraft fee'\n",
      " 'overdraft charges' 'charged overdraft fee' 'transactions' 'positive'\n",
      " 'pending' '36 00' '36' 'bank charged' 'charges' '35 00 fee'\n",
      " 'account overdrawn' 'insufficient' 'insufficient funds' 'draft fee'\n",
      " '00 fees' 'overdrafted' 'charging' 'items' 'excessive' 'protection'\n",
      " 'balance' 'opted' 'charge overdraft fees' 'account negative'\n",
      " '35 00 overdraft fee' 'opt' 'positive balance' 'nsf fee'\n",
      " 'account overdraft' 'nsf fees' 'fee 35' 'fee 35 00' 'extended overdraft'\n",
      " 'charging overdraft' 'opted overdraft' 'debits' 'charged 35 00 overdraft'\n",
      " '34 00' '00 nsf' 'maximize' 'excessive overdraft' '34' 'negative balance'\n",
      " 'overdraft charge' 'posted' 'account cover' 'overdraft fees account' 'hit'\n",
      " 'fees 35' 'fees 35 00' 'draft fees' '140 00' 'charge overdraft fee' 'item'\n",
      " 'charged fees' '140' 'order transactions' 'od' 'charging overdraft fees'\n",
      " 'dollars overdraft' 'bank charged overdraft' 'fees account' 'fees bank'\n",
      " 'sufficient funds' 'opted overdraft protection' 'smaller'\n",
      " 'account positive' 'assessed' 'lowest' 'fees charged' 'charge 35'\n",
      " 'transactions order' 'overdraw' '70 00' 'overdrew']\n",
      "Payments\n",
      "['payment' 'paypal' 'payments' 'late' 'late fee' 'payee' 'ebay'\n",
      " 'online pay' 'cashed' 'pay' 'recipient' 'make payment' 'stop payment'\n",
      " 'late payment' 'payment sent' 'billpay' 'seller' 'received payment'\n",
      " 'telecheck' 'wire' 'late fees' 'pay service' 'sent payment' 'overdraft'\n",
      " 'buyer' 'online payment' 'payment online' 'pay credit' 'adp' 'bonus'\n",
      " 'western union' 'payment information' 'paypal customer' 'payment check'\n",
      " 'promotion' 'scheduled payment' 'synchrony' 'payment did'\n",
      " 'electronic payment' 'automatic payment' 'western' 'mortgage'\n",
      " 'overdraft fees' 'check cashed' 'company' 'payment received'\n",
      " 'refused cash' 'delivered' 'requirements' 'payees' 'deposit' 'pay payment'\n",
      " 'making payment' 'send payment' 'wu' 'payments credit' 'money transfer'\n",
      " 'charged late' 'opened' 'paid' 'check payment' 'ebay paypal'\n",
      " 'using paypal' 'mortgage payment' 'payment date' 'atm' 'pay credit card'\n",
      " 'wire transfer' 'loan' 'miles' 'check' 'day sending' 'accept payment'\n",
      " 'synchrony bank' 'payment went' 'principal' 'fees' 'monthly payment'\n",
      " 'vendor' 'stop' 'scheduled' 'pay late' 'paypal account' 'payment bank'\n",
      " 'overpayment' 'charged late fee' 'payment payment' 'send' 'payment 2015'\n",
      " 'minimum payment' 'wrote' 'place stop payment' 'payment account'\n",
      " 'promissory' 'certegy' '00 late' 'auto' 'credit card' 'payment pay'\n",
      " 'payment scheduled']\n",
      "Transactions\n",
      "['check' 'deposited' 'deposit' 'funds' 'deposited check' 'hold' 'money'\n",
      " 'promotion' 'bonus' 'teller' 'funds available' 'requirements' 'cashed'\n",
      " 'deposit check' 'available' 'hold placed' 'hold funds' 'check deposited'\n",
      " 'checks' 'cleared' 'check cleared' 'miles' 'withdrawal' 'citi'\n",
      " 'deposit slip' 'offer' 'cash' 'rushcard' 'points' 'mobile deposit'\n",
      " 'holding' 'slip' 'fees' 'withdrew' 'day hold' 'citigold' 'check deposit'\n",
      " 'rush card' 'release' 'hold check' 'released' 'deposited checks'\n",
      " 'endorsed' 'check wells' 'check wells fargo' 'rush' 'mobile' 'deposits'\n",
      " 'met' 'withdrawn' 'opening' 'promotional' 'check checking account'\n",
      " 'placed' 'copy check' 'open' 'payroll check' 'told funds' 'eligible'\n",
      " 'met requirements' '00 check' 'check check' 'extended hold'\n",
      " 'money available' 'check checking' 'cashed check' 'fee' 'cash deposit'\n",
      " 'regulation cc' 'available 2016' 'funds hold' 'credit' 'held'\n",
      " 'hold deposit' 'check atm' 'credit report' 'release funds' 'code'\n",
      " '10 day hold' 'citigold checking' 'opened' 'applied' 'holds'\n",
      " 'deposit receipt' 'debited' 'withdraw' '2200' 'check did' 'available day'\n",
      " 'depositing' 'citigold checking account' 'citibank' 'funds released'\n",
      " '2200 00' 'check account' 'counted' 'fraudulent check' 'application'\n",
      " 'placed hold' 'endorsement']\n"
     ]
    }
   ],
   "source": [
    "n = 100\n",
    "\n",
    "issue_top_chi2s = {}\n",
    "\n",
    "for issue in issues:\n",
    "    chi_vals = chi2(examples_tfidf['m'],labels == issue)\n",
    "    #get index of n max chi_val words and compare to class\n",
    "    print(issue)\n",
    "    print(feature_names[(chi_vals[0].argsort()[-n:][::-1])].values)\n",
    "    issue_top_chi2s[issue]=set(feature_names[(chi_vals[0].argsort()[-n:][::-1])].values)"
   ]
  },
  {
   "cell_type": "code",
   "execution_count": 15,
   "metadata": {},
   "outputs": [
    {
     "name": "stdout",
     "output_type": "stream",
     "text": [
      "{'fees', 'requirements', 'check', 'opened', 'deposit', 'bonus', 'cashed', 'promotion', 'miles'} \n",
      " {'requirements', 'citibank', 'points', 'citi', 'application', 'bonus', 'promotion', 'code', 'offer', 'deposited', 'citigold', 'citigold checking account', 'open', 'funds available', 'miles', 'met', 'fees', 'opening', 'money', 'opened', 'citigold checking', 'eligible', 'withdrawal', 'available', 'cashed', 'funds', 'met requirements', 'check', 'promotional', 'credit report'} \n",
      " {'fees', 'requirements', 'payment', 'overdraft fees', 'check', 'overdraft', 'atm', 'opened', 'bonus', 'cashed', 'promotion', 'miles'}\n"
     ]
    }
   ],
   "source": [
    "print(issue_top_chi2s['Payments'].intersection(issue_top_chi2s['Transactions']),'\\n',\n",
    "      issue_top_chi2s['Account'].intersection(issue_top_chi2s['Transactions']),'\\n',\n",
    "      issue_top_chi2s['Account'].intersection(issue_top_chi2s['Payments'])\n",
    "     )"
   ]
  },
  {
   "cell_type": "code",
   "execution_count": 16,
   "metadata": {
    "collapsed": true
   },
   "outputs": [],
   "source": [
    "#Take a balanced sampling for an alternative training set and an unbalanced/stratified test set\n",
    "\n",
    "class_balance = np.array([len(example_set[example_set['issue'] == issue]) for issue in issues])\n",
    "\n",
    "es_copy = example_set.copy()\n",
    "training_samples = []\n",
    "test_samples = []\n",
    "smallest_class_total = np.min(class_balance)\n",
    "test_frac = 0.33\n",
    "training_size = int(np.floor(smallest_class_total*(1-test_frac)))\n",
    "min_test_size = smallest_class_total-training_size\n",
    "test_sample_sizes = zip(issues,np.floor(class_balance*(min_test_size/smallest_class_total)))\n",
    "\n",
    "for issue in issues:\n",
    "    training_samples.append(es_copy[es_copy['issue'] == issue].sample(training_size,replace=False))\n",
    "bal_training_set = pd.concat(training_samples)\n",
    "\n",
    "es_copy = es_copy.drop(bal_training_set.index)\n",
    "overlap_test=set(es_copy.index).intersection(set(bal_training_set.index))\n",
    "\n",
    "for issue,test_size in test_sample_sizes:\n",
    "    test_samples.append(es_copy[es_copy['issue'] == issue].sample(int(test_size),replace=False))\n",
    "strat_test_set = pd.concat(test_samples)\n",
    "    "
   ]
  },
  {
   "cell_type": "code",
   "execution_count": 17,
   "metadata": {
    "collapsed": true
   },
   "outputs": [],
   "source": [
    "#assemble training examples and labels for balanced set\n",
    "#Make the vocabulary correspond to the one learned from the topic globs.\n",
    "\n",
    "bal_training_bow = bow_conform(bal_training_set['clean_text'],feature_names)\n",
    "bal_training_tfidf = tfidf_vectorize(bal_training_bow['m'],sublinear_tf=True)\n",
    "bal_training_labels = bal_training_set['issue']\n",
    "\n",
    "strat_test_bow = bow_conform(strat_test_set['clean_text'],feature_names)\n",
    "strat_test_tfidf = tfidf_vectorize(strat_test_bow['m'],sublinear_tf=True)\n",
    "strat_test_labels = strat_test_set['issue']\n",
    "\n",
    "bal_X_train,bal_y_train = bal_training_tfidf['m'], bal_training_labels\n",
    "strat_X_test, strat_y_test = strat_test_tfidf['m'], strat_test_labels"
   ]
  },
  {
   "cell_type": "code",
   "execution_count": 46,
   "metadata": {
    "collapsed": true
   },
   "outputs": [],
   "source": [
    "###Create target shuffled labels"
   ]
  },
  {
   "cell_type": "code",
   "execution_count": 47,
   "metadata": {
    "collapsed": true
   },
   "outputs": [],
   "source": [
    "bal_y_train_shuffled = bal_y_train.sample(frac=1)"
   ]
  },
  {
   "cell_type": "code",
   "execution_count": 48,
   "metadata": {},
   "outputs": [
    {
     "name": "stdout",
     "output_type": "stream",
     "text": [
      "\n"
     ]
    }
   ],
   "source": [
    "#train a multinomial bayes classifier for both sets\n",
    "bal_mnb_classifier = MultinomialNB()\n",
    "bal_mnb_classifier.fit(X=bal_X_train,y=bal_y_train_shuffled)\n",
    "print()"
   ]
  },
  {
   "cell_type": "markdown",
   "metadata": {},
   "source": [
    "### Transactions and payments are the problem classes"
   ]
  },
  {
   "cell_type": "code",
   "execution_count": 49,
   "metadata": {
    "scrolled": false
   },
   "outputs": [
    {
     "data": {
      "image/png": "[encoded data removed]",
      "text/plain": [
       "<matplotlib.figure.Figure at 0x10c682dd8>"
      ]
     },
     "metadata": {},
     "output_type": "display_data"
    },
    {
     "name": "stdout",
     "output_type": "stream",
     "text": [
      "              precision    recall  f1-score   support\n",
      "\n",
      "     Account       0.52      0.21      0.30      2095\n",
      "        Card       0.11      0.20      0.14       527\n",
      "   Low Funds       0.19      0.31      0.24       688\n",
      "    Payments       0.12      0.28      0.17       472\n",
      "Transactions       0.16      0.14      0.15      1130\n",
      "\n",
      " avg / total       0.31      0.21      0.23      4912\n",
      "\n",
      "Num of training examples : [ 960.  960.  960.  960.  960.]\n"
     ]
    }
   ],
   "source": [
    "predictions = bal_mnb_classifier.predict(X=strat_X_test)\n",
    "confusion = np.matrix(metrics.confusion_matrix(strat_y_test,predictions))\n",
    "rel_confusion = confusion/confusion.sum(axis=1)\n",
    "rc_df = pd.DataFrame(rel_confusion,index=issues,columns=issues)\n",
    "heat = sns.heatmap(rc_df,cmap='magma',annot=True)\n",
    "heat.set(xlabel = 'Actual Issue',ylabel = 'Predicted Issue',title= 'Predicted vs Actual Issue')\n",
    "plt.show()\n",
    "print(metrics.classification_report(strat_y_test,predictions))\n",
    "print('Num of training examples :',bal_mnb_classifier.class_count_)"
   ]
  },
  {
   "cell_type": "markdown",
   "metadata": {},
   "source": [
    "### Final Thoughts"
   ]
  },
  {
   "cell_type": "markdown",
   "metadata": {},
   "source": [
    "As you can see above, some issues are easier to predict than others, and certain pairs seem to blend together. One possible explanation for this is that specific language is not consistently used. With our further feature engineering efforts, we'll try to find generalizable signifiers that are both widely distributed and unique to the issue.\n",
    "\n",
    "Our model of term specificity presents an interesting issue in practice since we're classifying a single new document rather than a new large corpus of documents. In order to take the advantage of context, we will utilize the Inverse Document Frequency metric from our training data to weight the Term Frequency of the test data. Normally the Term Frequency and Inverse Document Frequency would be computed based on the same corpus. This should help weigh the features in such a way that topic-specific phrases are emphasized.\n",
    "\n",
    "**Based on the above, we can see that a more developed classifier may be able to parse these categories in a majority of cases. However, if specific terms aren't prevalent enough in a message, our algorithm could ask for human help.** This means that a reliable metric of confidence will play an important role in getting this algorithm to avoid the mis-classifications evident in the heatmap above.\n",
    "\n",
    "We will also want to explore non-supervised 'topic modeling' methods to help us deal with an initial stack of unsorted topics. In this phase, we could verify that the categories we use for classification are seperable to an algorithm as well as meaningful to a person."
   ]
  }
 ],
 "metadata": {
  "kernelspec": {
   "display_name": "Python 3",
   "language": "python",
   "name": "python3"
  },
  "language_info": {
   "codemirror_mode": {
    "name": "ipython",
    "version": 3
   },
   "file_extension": ".py",
   "mimetype": "text/x-python",
   "name": "python",
   "nbconvert_exporter": "python",
   "pygments_lexer": "ipython3",
   "version": "3.6.2"
  }
 },
 "nbformat": 4,
 "nbformat_minor": 2
}
